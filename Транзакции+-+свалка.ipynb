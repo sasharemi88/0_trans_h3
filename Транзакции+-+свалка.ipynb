{
 "cells": [
  {
   "cell_type": "code",
   "execution_count": null,
   "metadata": {
    "collapsed": true
   },
   "outputs": [],
   "source": [
    "import os\n",
    "import sys\n",
    " \n",
    "spark_home = '/opt/cloudera/parcels/SPARK2/lib/spark2'\n",
    "os.environ['SPARK_HOME'] = spark_home\n",
    "os.environ['PYSPARK_DRIVER_PYTHON'] = 'python'\n",
    "os.environ['LD_LIBRARY_PATH'] = '/opt/python/virtualenv/jupyter/lib'\n",
    "os.environ['PYSPARK_PYTHON'] = '/opt/cloudera/parcels/PYENV.ZNO0059623792/bin/python'\n",
    " \n",
    "sys.path.insert(0, os.path.join (spark_home,'python'))\n",
    " \n",
    "#sys.path.insert(0, os.path.join (spark_home,'python/lib/py4j-0.10.7-src.zip'))\n",
    "sys.path.insert(0, os.path.join (spark_home,'python/lib/py4j-0.10.4-src.zip'))\n",
    "from pyspark import SparkContext, SparkConf, HiveContext\n",
    " \n",
    "conf = SparkConf().setAppName('SparkContextExample')\\\n",
    "    .setMaster(\"yarn-client\")\\\n",
    "    .set('spark.dynamicAllocation.enabled', 'false')\\\n",
    "# Пример кастомизации параметров Spark. По умолчанию параметры берутся из конфигурации Cloudera Manager.\n",
    "# .set('spark.local.dir', 'sparktmp')\\ # Директория для временных файлов Spark\n",
    "# .set('spark.executor.memory','5g')\\ # Объём памяти для выполнения задач Spark\n",
    "# .set('spark.driver.maxResultSize','5g')\\ # Максимальный объём памяти для драйвера Spark\n",
    "# .set('spark.executor.instances', '1')\\ # Количество экземпляров/инстансов для выполнения задач Spark\n",
    "# .set('spark.executor.cores', '8')\\ # Количество ядер, задействованных для выполнения задач Spark\n",
    "# .set('spark.port.maxRetries', '150')\\ # Максимальное количество попыток привязки к порту до отказа\n"
   ]
  },
  {
   "cell_type": "code",
   "execution_count": 6,
   "metadata": {},
   "outputs": [],
   "source": [
    "import pandas as pd\n",
    "import re\n",
    "import numpy as np\n",
    "from datetime import datetime as dt\n",
    "\n",
    "from h3 import h3\n",
    "\n",
    "pd.set_option('display.float_format', '{:.4f}'.format)\n",
    "pd.set_option('display.max_rows', 1000)\n",
    "pd.set_option('display.max_columns', 1000)"
   ]
  },
  {
   "cell_type": "code",
   "execution_count": 8,
   "metadata": {
    "scrolled": true
   },
   "outputs": [
    {
     "data": {
      "text/plain": [
       "['__builtins__',\n",
       " '__cached__',\n",
       " '__doc__',\n",
       " '__file__',\n",
       " '__loader__',\n",
       " '__name__',\n",
       " '__package__',\n",
       " '__spec__',\n",
       " '_api_functions',\n",
       " '_cy',\n",
       " '_globals',\n",
       " '_in_collection',\n",
       " '_in_scalar',\n",
       " '_out_ordered',\n",
       " '_out_scalar',\n",
       " '_out_unordered',\n",
       " 'cell_area',\n",
       " 'compact',\n",
       " 'edge_length',\n",
       " 'exact_edge_length',\n",
       " 'experimental_h3_to_local_ij',\n",
       " 'experimental_local_ij_to_h3',\n",
       " 'geo_to_h3',\n",
       " 'get_destination_h3_index_from_unidirectional_edge',\n",
       " 'get_h3_indexes_from_unidirectional_edge',\n",
       " 'get_h3_unidirectional_edge',\n",
       " 'get_h3_unidirectional_edge_boundary',\n",
       " 'get_h3_unidirectional_edges_from_hexagon',\n",
       " 'get_origin_h3_index_from_unidirectional_edge',\n",
       " 'get_pentagon_indexes',\n",
       " 'get_res0_indexes',\n",
       " 'h3_distance',\n",
       " 'h3_get_base_cell',\n",
       " 'h3_get_faces',\n",
       " 'h3_get_resolution',\n",
       " 'h3_indexes_are_neighbors',\n",
       " 'h3_is_pentagon',\n",
       " 'h3_is_res_class_III',\n",
       " 'h3_is_res_class_iii',\n",
       " 'h3_is_valid',\n",
       " 'h3_line',\n",
       " 'h3_set_to_multi_polygon',\n",
       " 'h3_to_center_child',\n",
       " 'h3_to_children',\n",
       " 'h3_to_geo',\n",
       " 'h3_to_geo_boundary',\n",
       " 'h3_to_parent',\n",
       " 'h3_to_string',\n",
       " 'h3_unidirectional_edge_is_valid',\n",
       " 'hex_area',\n",
       " 'hex_range',\n",
       " 'hex_range_distances',\n",
       " 'hex_ranges',\n",
       " 'hex_ring',\n",
       " 'k_ring',\n",
       " 'k_ring_distances',\n",
       " 'num_hexagons',\n",
       " 'point_dist',\n",
       " 'polyfill',\n",
       " 'polyfill_geojson',\n",
       " 'polyfill_polygon',\n",
       " 'string_to_h3',\n",
       " 'uncompact',\n",
       " 'versions']"
      ]
     },
     "execution_count": 8,
     "metadata": {},
     "output_type": "execute_result"
    }
   ],
   "source": [
    "dir(h3)"
   ]
  },
  {
   "cell_type": "code",
   "execution_count": 17,
   "metadata": {},
   "outputs": [
    {
     "data": {
      "text/plain": [
       "59.81085794"
      ]
     },
     "execution_count": 17,
     "metadata": {},
     "output_type": "execute_result"
    }
   ],
   "source": [
    "#h3.cell_area(3)\n",
    "h3.edge_length(3)"
   ]
  },
  {
   "cell_type": "code",
   "execution_count": null,
   "metadata": {},
   "outputs": [],
   "source": [
    "h3.h3_to_parent('8910c264d73ffff', 6)"
   ]
  },
  {
   "cell_type": "code",
   "execution_count": 16,
   "metadata": {},
   "outputs": [],
   "source": [
    "census_h3 = pd.read_excel('test.xlsx')\n",
    "census_h3['h3_id_8'] = census_h3.apply(lambda x:\n",
    "                                      h3.h3_to_parent(x['h3_id'], \n",
    "                                      8),\n",
    "                                      axis=1)\n",
    "census_h3['h3_id_7'] = census_h3.apply(lambda x:\n",
    "                                      h3.h3_to_parent(x['h3_id'], \n",
    "                                      7),\n",
    "                                      axis=1)\n",
    "census_h3['h3_id_6'] = census_h3.apply(lambda x:\n",
    "                                      h3.h3_to_parent(x['h3_id'], \n",
    "                                      6),\n",
    "                                      axis=1)\n",
    "census_h3['h3_id_5'] = census_h3.apply(lambda x:\n",
    "                                      h3.h3_to_parent(x['h3_id'], \n",
    "                                      5),\n",
    "                                      axis=1)\n",
    "census_h3['h3_id_4'] = census_h3.apply(lambda x:\n",
    "                                      h3.h3_to_parent(x['h3_id'], \n",
    "                                      4),\n",
    "                                      axis=1)\n",
    "census_h3['h3_id_3'] = census_h3.apply(lambda x:\n",
    "                                      h3.h3_to_parent(x['h3_id'], \n",
    "                                      3),\n",
    "                                      axis=1)\n",
    "census_h3.to_excel('trans_hexes.xlsx', index=None)                                                       "
   ]
  },
  {
   "cell_type": "code",
   "execution_count": null,
   "metadata": {
    "scrolled": true
   },
   "outputs": [],
   "source": [
    "print('Start',dt.now())\n",
    "sc = SparkContext.getOrCreate(conf=conf)\n",
    "print('SparkContext start',dt.now())\n",
    "hive = HiveContext(sc)\n",
    "print('Allocated', dt.now())"
   ]
  },
  {
   "cell_type": "code",
   "execution_count": null,
   "metadata": {
    "collapsed": true
   },
   "outputs": [],
   "source": [
    "trans = hive.read.parquet('hdfs://clsklcib/data/custom/cib/mntz/pa/card_transactions/partition_dt=2020-11-01')"
   ]
  },
  {
   "cell_type": "code",
   "execution_count": null,
   "metadata": {
    "collapsed": true
   },
   "outputs": [],
   "source": [
    "#собираем справочник по типам оперций\n",
    "trans.select('trans_type', 'trans_name').drop_duplicates(['trans_type', 'trans_name']).toPandas().to_excel('trans_spr.xlsx', index=None)"
   ]
  },
  {
   "cell_type": "code",
   "execution_count": null,
   "metadata": {
    "collapsed": true
   },
   "outputs": [],
   "source": [
    "#собираем список городв Екб\n",
    "city_list = trans.select('trans_city').filter(trans['trans_city'].contains(\"EKATERINBUR\")).drop_duplicates(['trans_city'])"
   ]
  },
  {
   "cell_type": "code",
   "execution_count": null,
   "metadata": {
    "collapsed": true
   },
   "outputs": [],
   "source": [
    "#собираем все POS-транзакции в Екб\n",
    "ekb_trans = trans.filter('trans_type = 1010 or trans_type = 1310').join(city_list, on=['trans_city'], how='inner')\n",
    "\n",
    "#собираем id пользователей, топ1000 по кол-во транзакций\n",
    "users = ekb_trans.select('target_client_id').groupby('target_client_id').count().sort(F.desc('count')).limit(1000)"
   ]
  },
  {
   "cell_type": "code",
   "execution_count": null,
   "metadata": {
    "collapsed": true,
    "scrolled": true
   },
   "outputs": [],
   "source": [
    "#Выбираем из всех транзакций те, которые были соверешены нашим топ1000\n",
    "df = trans.filter('trans_type = 1010 or trans_type = 1310').join(users, on=['target_client_id'], how='inner')\n",
    "df.sort('target_client_id').toPandas()"
   ]
  },
  {
   "cell_type": "code",
   "execution_count": null,
   "metadata": {
    "collapsed": true
   },
   "outputs": [],
   "source": [
    "df.write.parquet('hdfs://clsklsbx/user/team/team_digitcamp/hive/tmp_mon_trans_top1000')"
   ]
  },
  {
   "cell_type": "code",
   "execution_count": null,
   "metadata": {
    "collapsed": true
   },
   "outputs": [],
   "source": [
    "import datetime as dt\n",
    "\n",
    "for d in range(2,31):\n",
    "    day = str(dt.date(2020,11,d))\n",
    "    l_trans = hive.read.parquet('hdfs://clsklcib/data/custom/cib/mntz/pa/card_transactions/partition_dt=' + day)\n",
    "    l_df = l_trans.filter('trans_type = 1010 or trans_type = 1310').join(users, on=['target_client_id'], how='inner')\n",
    "    l_df.write.mode('append').parquet('hdfs://clsklsbx/user/team/team_digitcamp/hive/tmp_mon_trans_top1000')\n",
    "    print('Done: ', day)"
   ]
  },
  {
   "cell_type": "code",
   "execution_count": null,
   "metadata": {
    "collapsed": true
   },
   "outputs": [],
   "source": [
    "\n",
    "#Работа с собранной ранее базой топ1000"
   ]
  },
  {
   "cell_type": "code",
   "execution_count": null,
   "metadata": {
    "collapsed": true
   },
   "outputs": [],
   "source": [
    "top1000 = hive.read.parquet('hdfs://clsklsbx/user/team/team_digitcamp/hive/tmp_mon_trans_top1000')"
   ]
  },
  {
   "cell_type": "code",
   "execution_count": null,
   "metadata": {
    "collapsed": true
   },
   "outputs": [],
   "source": [
    "sensus = hive.read.parquet('hdfs://clsklcib/data/custom/cib/mntz/pa/census_ext_w4/partition_dt=2020-11-01')\n",
    "cols = ['terminal_id', 'latitude_mt', 'longitude_mt']\n",
    "sensus_terminals = sensus.select(cols).filter(sensus['province_mt'].contains(\"Свердловская\")).filter('latitude_mt is not null and longitude_mt is not null ').drop_duplicates(['terminal_id'])\n",
    "\n",
    "#преобразуем char-координаты в decimal \n",
    "#sensus_terminals = sensus_terminals.withColumn('latitude_mt_n', F.col('latitude_mt').cast(FloatType())).withColumn('longitude_mt_n', F.col('longitude_mt').cast(FloatType()))"
   ]
  },
  {
   "cell_type": "code",
   "execution_count": null,
   "metadata": {
    "collapsed": true,
    "scrolled": true
   },
   "outputs": [],
   "source": [
    "sensus_terminals_pd = sensus_terminals.toPandas()\n",
    "#добавляем координаты в числовом виде\n",
    "sensus_terminals_pd['lat_n'] = pd.to_numeric(sensus_terminals_pd['latitude_mt'], downcast='float')\n",
    "sensus_terminals_pd['lng_n'] = pd.to_numeric(sensus_terminals_pd['longitude_mt'], downcast='float')\n"
   ]
  },
  {
   "cell_type": "code",
   "execution_count": null,
   "metadata": {
    "collapsed": true
   },
   "outputs": [],
   "source": [
    "sensus_terminals_pd['h3_id'] = sensus_terminals_pd.apply(lambda x:\n",
    "                                                        h3.geo_to_h3(x['lat_n'], \n",
    "                                                                     x['lng_n'], 9),\n",
    "                                                        axis=1)\n",
    "\n",
    "sensus_terminals_pd[['terminal_id', 'lat_n', 'lng_n', 'h3_id']].to_excel('terminals_h3.xlsx', index=None)\n"
   ]
  },
  {
   "cell_type": "code",
   "execution_count": null,
   "metadata": {
    "collapsed": true,
    "scrolled": true
   },
   "outputs": [],
   "source": [
    "#траблы с версиями питона\n",
    "#sensus_terminals_ps = hive.createDataFrame(sensus_terminals_pd[['terminal_id', 'lat_n', 'lng_n', 'h3_id']])\n",
    "#sensus_terminals_ps.write.mode('append').parquet('hdfs://clsklsbx/user/team/team_digitcamp/hive/tmp_mon_trans_terminals_h3')"
   ]
  },
  {
   "cell_type": "code",
   "execution_count": null,
   "metadata": {
    "collapsed": true
   },
   "outputs": [],
   "source": [
    "sensus_terminals_pd"
   ]
  },
  {
   "cell_type": "code",
   "execution_count": null,
   "metadata": {
    "scrolled": true
   },
   "outputs": [],
   "source": [
    "#Считаем кол-во платежей за месяц в разрезе клиент-теримнал\n",
    "cols = ['target_client_id','trans_dt','trans_time','trans_city','trans_amount','mcc_supercat','mcc_cat','mcc_name','merchant_id','merchant_name','terminal_id','partition_hr']\n",
    "group_cols = ['target_client_id','mcc_supercat','mcc_cat','mcc_name','merchant_id','merchant_name','terminal_id']\n",
    "top1000_grp = top1000.select(cols).groupby(group_cols).count()\n",
    "top1000_grp.limit(8).toPandas()\n"
   ]
  },
  {
   "cell_type": "code",
   "execution_count": null,
   "metadata": {
    "collapsed": true
   },
   "outputs": [],
   "source": [
    "census = hive.createDataFrame(pd.read_excel('terminals_h3.xlsx'))"
   ]
  },
  {
   "cell_type": "code",
   "execution_count": null,
   "metadata": {},
   "outputs": [],
   "source": [
    "census.limit(10).toPandas()"
   ]
  },
  {
   "cell_type": "code",
   "execution_count": null,
   "metadata": {
    "collapsed": true
   },
   "outputs": [],
   "source": [
    "census.write.parquet('hdfs://clsklsbx/user/team/team_digitcamp/hive/tmp_mon_trans_census_h3')"
   ]
  },
  {
   "cell_type": "code",
   "execution_count": null,
   "metadata": {
    "collapsed": true
   },
   "outputs": [],
   "source": [
    "#попытка преобразовать координаты во float (не работает из-за разных версий питона??)\n",
    "\n",
    "def h3_9(lot, lng):\n",
    "    return h3.geo_to_h3(lot, lng, 9)\n",
    "\n",
    "udf_geo_to_h3 = F.udf(h3_9, StringType())\n",
    "sensus_terminals.withColumn('h3_id', udf_geo_to_h3(sensus_terminals.latitude_mt_n,\n",
    "                                                   sensus_terminals.longitude_mt_n)).limit(10).toPandas()"
   ]
  },
  {
   "cell_type": "code",
   "execution_count": null,
   "metadata": {
    "collapsed": true
   },
   "outputs": [],
   "source": [
    "client_h3 = top1000_grp.join(census, ['terminal_id']).select('target_client_id',\n",
    "                                                                    'terminal_id',\n",
    "                                                                    'mcc_name',\n",
    "                                                                    'merchant_name',\n",
    "                                                                    'h3_id',\n",
    "                                                                    'count').sort('target_client_id')"
   ]
  },
  {
   "cell_type": "code",
   "execution_count": null,
   "metadata": {
    "collapsed": true
   },
   "outputs": [],
   "source": [
    "client_h3.write.parquet('hdfs://clsklsbx/user/team/team_digitcamp/hive/tmp_mon_trans_client_h3')"
   ]
  },
  {
   "cell_type": "code",
   "execution_count": null,
   "metadata": {},
   "outputs": [],
   "source": [
    "client_h3 = hive.read.parquet('hdfs://clsklsbx/user/team/team_digitcamp/hive/tmp_mon_trans_client_h3')\n",
    "client_h3.groupby('target_client_id','h3_id').agg(F.sum('count').alias('count')).sort('target_client_id', F.desc('count')).limit(100).toPandas()"
   ]
  },
  {
   "cell_type": "code",
   "execution_count": null,
   "metadata": {},
   "outputs": [],
   "source": [
    "client_h3.limit(100).toPandas()"
   ]
  },
  {
   "cell_type": "code",
   "execution_count": 16,
   "metadata": {
    "scrolled": true
   },
   "outputs": [
    {
     "data": {
      "text/html": [
       "<div style=\"width:100%;\"><div style=\"position:relative;width:100%;height:0;padding-bottom:60%;\"><span style=\"color:#565656\">Make this Notebook Trusted to load map: File -> Trust Notebook</span><iframe src=\"about:blank\" style=\"position:absolute;width:100%;height:100%;left:0;top:0;border:none !important;\" data-html=%3C%21DOCTYPE%20html%3E%0A%3Chead%3E%20%20%20%20%0A%20%20%20%20%3Cmeta%20http-equiv%3D%22content-type%22%20content%3D%22text/html%3B%20charset%3DUTF-8%22%20/%3E%0A%20%20%20%20%0A%20%20%20%20%20%20%20%20%3Cscript%3E%0A%20%20%20%20%20%20%20%20%20%20%20%20L_NO_TOUCH%20%3D%20false%3B%0A%20%20%20%20%20%20%20%20%20%20%20%20L_DISABLE_3D%20%3D%20false%3B%0A%20%20%20%20%20%20%20%20%3C/script%3E%0A%20%20%20%20%0A%20%20%20%20%3Cstyle%3Ehtml%2C%20body%20%7Bwidth%3A%20100%25%3Bheight%3A%20100%25%3Bmargin%3A%200%3Bpadding%3A%200%3B%7D%3C/style%3E%0A%20%20%20%20%3Cstyle%3E%23map%20%7Bposition%3Aabsolute%3Btop%3A0%3Bbottom%3A0%3Bright%3A0%3Bleft%3A0%3B%7D%3C/style%3E%0A%20%20%20%20%3Cscript%20src%3D%22https%3A//cdn.jsdelivr.net/npm/leaflet%401.6.0/dist/leaflet.js%22%3E%3C/script%3E%0A%20%20%20%20%3Cscript%20src%3D%22https%3A//code.jquery.com/jquery-1.12.4.min.js%22%3E%3C/script%3E%0A%20%20%20%20%3Cscript%20src%3D%22https%3A//maxcdn.bootstrapcdn.com/bootstrap/3.2.0/js/bootstrap.min.js%22%3E%3C/script%3E%0A%20%20%20%20%3Cscript%20src%3D%22https%3A//cdnjs.cloudflare.com/ajax/libs/Leaflet.awesome-markers/2.0.2/leaflet.awesome-markers.js%22%3E%3C/script%3E%0A%20%20%20%20%3Clink%20rel%3D%22stylesheet%22%20href%3D%22https%3A//cdn.jsdelivr.net/npm/leaflet%401.6.0/dist/leaflet.css%22/%3E%0A%20%20%20%20%3Clink%20rel%3D%22stylesheet%22%20href%3D%22https%3A//maxcdn.bootstrapcdn.com/bootstrap/3.2.0/css/bootstrap.min.css%22/%3E%0A%20%20%20%20%3Clink%20rel%3D%22stylesheet%22%20href%3D%22https%3A//maxcdn.bootstrapcdn.com/bootstrap/3.2.0/css/bootstrap-theme.min.css%22/%3E%0A%20%20%20%20%3Clink%20rel%3D%22stylesheet%22%20href%3D%22https%3A//maxcdn.bootstrapcdn.com/font-awesome/4.6.3/css/font-awesome.min.css%22/%3E%0A%20%20%20%20%3Clink%20rel%3D%22stylesheet%22%20href%3D%22https%3A//cdnjs.cloudflare.com/ajax/libs/Leaflet.awesome-markers/2.0.2/leaflet.awesome-markers.css%22/%3E%0A%20%20%20%20%3Clink%20rel%3D%22stylesheet%22%20href%3D%22https%3A//cdn.jsdelivr.net/gh/python-visualization/folium/folium/templates/leaflet.awesome.rotate.min.css%22/%3E%0A%20%20%20%20%0A%20%20%20%20%20%20%20%20%20%20%20%20%3Cmeta%20name%3D%22viewport%22%20content%3D%22width%3Ddevice-width%2C%0A%20%20%20%20%20%20%20%20%20%20%20%20%20%20%20%20initial-scale%3D1.0%2C%20maximum-scale%3D1.0%2C%20user-scalable%3Dno%22%20/%3E%0A%20%20%20%20%20%20%20%20%20%20%20%20%3Cstyle%3E%0A%20%20%20%20%20%20%20%20%20%20%20%20%20%20%20%20%23map_4f008d58454343f3a033e2387c105124%20%7B%0A%20%20%20%20%20%20%20%20%20%20%20%20%20%20%20%20%20%20%20%20position%3A%20relative%3B%0A%20%20%20%20%20%20%20%20%20%20%20%20%20%20%20%20%20%20%20%20width%3A%20100.0%25%3B%0A%20%20%20%20%20%20%20%20%20%20%20%20%20%20%20%20%20%20%20%20height%3A%20100.0%25%3B%0A%20%20%20%20%20%20%20%20%20%20%20%20%20%20%20%20%20%20%20%20left%3A%200.0%25%3B%0A%20%20%20%20%20%20%20%20%20%20%20%20%20%20%20%20%20%20%20%20top%3A%200.0%25%3B%0A%20%20%20%20%20%20%20%20%20%20%20%20%20%20%20%20%7D%0A%20%20%20%20%20%20%20%20%20%20%20%20%3C/style%3E%0A%20%20%20%20%20%20%20%20%0A%3C/head%3E%0A%3Cbody%3E%20%20%20%20%0A%20%20%20%20%0A%20%20%20%20%20%20%20%20%20%20%20%20%3Cdiv%20class%3D%22folium-map%22%20id%3D%22map_4f008d58454343f3a033e2387c105124%22%20%3E%3C/div%3E%0A%20%20%20%20%20%20%20%20%0A%3C/body%3E%0A%3Cscript%3E%20%20%20%20%0A%20%20%20%20%0A%20%20%20%20%20%20%20%20%20%20%20%20var%20map_4f008d58454343f3a033e2387c105124%20%3D%20L.map%28%0A%20%20%20%20%20%20%20%20%20%20%20%20%20%20%20%20%22map_4f008d58454343f3a033e2387c105124%22%2C%0A%20%20%20%20%20%20%20%20%20%20%20%20%20%20%20%20%7B%0A%20%20%20%20%20%20%20%20%20%20%20%20%20%20%20%20%20%20%20%20center%3A%20%5B0%2C%200%5D%2C%0A%20%20%20%20%20%20%20%20%20%20%20%20%20%20%20%20%20%20%20%20crs%3A%20L.CRS.EPSG3857%2C%0A%20%20%20%20%20%20%20%20%20%20%20%20%20%20%20%20%20%20%20%20zoom%3A%201%2C%0A%20%20%20%20%20%20%20%20%20%20%20%20%20%20%20%20%20%20%20%20zoomControl%3A%20true%2C%0A%20%20%20%20%20%20%20%20%20%20%20%20%20%20%20%20%20%20%20%20preferCanvas%3A%20false%2C%0A%20%20%20%20%20%20%20%20%20%20%20%20%20%20%20%20%20%20%20%20locations%3A%20%5B56.344508271214714%2C%2050.22568388483809%5D%2C%0A%20%20%20%20%20%20%20%20%20%20%20%20%20%20%20%20%7D%0A%20%20%20%20%20%20%20%20%20%20%20%20%29%3B%0A%0A%20%20%20%20%20%20%20%20%20%20%20%20%0A%0A%20%20%20%20%20%20%20%20%0A%20%20%20%20%0A%20%20%20%20%20%20%20%20%20%20%20%20var%20tile_layer_9e1e16b0f62f4ea8ab1e93d853608489%20%3D%20L.tileLayer%28%0A%20%20%20%20%20%20%20%20%20%20%20%20%20%20%20%20%22https%3A//cartodb-basemaps-%7Bs%7D.global.ssl.fastly.net/light_all/%7Bz%7D/%7Bx%7D/%7By%7D.png%22%2C%0A%20%20%20%20%20%20%20%20%20%20%20%20%20%20%20%20%7B%22attribution%22%3A%20%22%5Cu0026copy%3B%20%5Cu003ca%20href%3D%5C%22http%3A//www.openstreetmap.org/copyright%5C%22%5Cu003eOpenStreetMap%5Cu003c/a%5Cu003e%20contributors%20%5Cu0026copy%3B%20%5Cu003ca%20href%3D%5C%22http%3A//cartodb.com/attributions%5C%22%5Cu003eCartoDB%5Cu003c/a%5Cu003e%2C%20CartoDB%20%5Cu003ca%20href%20%3D%5C%22http%3A//cartodb.com/attributions%5C%22%5Cu003eattributions%5Cu003c/a%5Cu003e%22%2C%20%22detectRetina%22%3A%20false%2C%20%22maxNativeZoom%22%3A%2018%2C%20%22maxZoom%22%3A%2018%2C%20%22minZoom%22%3A%200%2C%20%22noWrap%22%3A%20false%2C%20%22opacity%22%3A%201%2C%20%22subdomains%22%3A%20%22abc%22%2C%20%22tms%22%3A%20false%7D%0A%20%20%20%20%20%20%20%20%20%20%20%20%29.addTo%28map_4f008d58454343f3a033e2387c105124%29%3B%0A%20%20%20%20%20%20%20%20%0A%20%20%20%20%0A%20%20%20%20%20%20%20%20%20%20%20%20var%20poly_line_e0032aaa399e4fbd9976c44eced96bed%20%3D%20L.polyline%28%0A%20%20%20%20%20%20%20%20%20%20%20%20%20%20%20%20%5B%5B56.342947533109175%2C%2050.22484024275744%5D%2C%20%5B56.34343208840105%2C%2050.22808349346959%5D%2C%20%5B56.34525296208419%2C%2050.229067893117026%5D%2C%20%5B56.3465892928189%2C%2050.22680879712041%5D%2C%20%5B56.34610468750226%2C%2050.22356533967561%5D%2C%20%5B56.34428380147828%2C%2050.222581184969094%5D%2C%20%5B56.342947533109175%2C%2050.22484024275744%5D%5D%2C%0A%20%20%20%20%20%20%20%20%20%20%20%20%20%20%20%20%7B%22bubblingMouseEvents%22%3A%20true%2C%20%22color%22%3A%20%22red%22%2C%20%22dashArray%22%3A%20null%2C%20%22dashOffset%22%3A%20null%2C%20%22fill%22%3A%20false%2C%20%22fillColor%22%3A%20%22red%22%2C%20%22fillOpacity%22%3A%200.2%2C%20%22fillRule%22%3A%20%22evenodd%22%2C%20%22lineCap%22%3A%20%22round%22%2C%20%22lineJoin%22%3A%20%22round%22%2C%20%22noClip%22%3A%20false%2C%20%22opacity%22%3A%201.0%2C%20%22smoothFactor%22%3A%201.0%2C%20%22stroke%22%3A%20true%2C%20%22weight%22%3A%203%7D%0A%20%20%20%20%20%20%20%20%20%20%20%20%29.addTo%28map_4f008d58454343f3a033e2387c105124%29%3B%0A%20%20%20%20%20%20%20%20%0A%3C/script%3E onload=\"this.contentDocument.open();this.contentDocument.write(    decodeURIComponent(this.getAttribute('data-html')));this.contentDocument.close();\" allowfullscreen webkitallowfullscreen mozallowfullscreen></iframe></div></div>"
      ],
      "text/plain": [
       "<folium.folium.Map at 0x2bd52cc7b38>"
      ]
     },
     "metadata": {},
     "output_type": "display_data"
    }
   ],
   "source": [
    "#функция для рисования гексов (не работает из альфы)\n",
    "from h3 import h3\n",
    "import folium\n",
    "\n",
    "def visualize_hexagons(hexagons, color='red', folium_map=None):\n",
    "    polylines = []\n",
    "    lat = []\n",
    "    lng= []\n",
    "    for hex in hexagons:\n",
    "        polygons = h3.h3_set_to_multi_polygon([hex], geo_json=False)\n",
    "        outlines = [loop for polygon in polygons for loop in polygon]\n",
    "        polyline = [outline + [outline[0]] for outline in outlines][0] #список линий, которые формируют гекс\n",
    "        lat.extend(map(lambda v:v[0], polyline)) #все широты в один список, для нахождения средней точки\n",
    "        lng.extend(map(lambda v:v[1], polyline)) \n",
    "        polylines.append(polyline)\n",
    "        \n",
    "        if folium_map is None:\n",
    "            m = folium.Map(locations=[sum(lat)/len(lat), sum(lng)/len(lng)], zoom_start=3, tiles='cartodbpositron')\n",
    "        else:    \n",
    "            m = folium_map \n",
    "        for polyline in polylines:\n",
    "            my_Polyline = folium.PolyLine(locations=polyline, weight=3, color=color)\n",
    "            m.add_child(my_Polyline)\n",
    "    return m   \n",
    "            \n",
    "hex = h3.geo_to_h3(56.345833, 50.225562, 9)\n",
    "m = visualize_hexagons([hex])\n",
    "display(m)"
   ]
  },
  {
   "cell_type": "code",
   "execution_count": 10,
   "metadata": {},
   "outputs": [
    {
     "data": {
      "text/plain": [
       "['__builtins__',\n",
       " '__cached__',\n",
       " '__doc__',\n",
       " '__file__',\n",
       " '__loader__',\n",
       " '__name__',\n",
       " '__package__',\n",
       " '__spec__',\n",
       " '_api_functions',\n",
       " '_cy',\n",
       " '_globals',\n",
       " '_in_collection',\n",
       " '_in_scalar',\n",
       " '_out_ordered',\n",
       " '_out_scalar',\n",
       " '_out_unordered',\n",
       " 'cell_area',\n",
       " 'compact',\n",
       " 'edge_length',\n",
       " 'exact_edge_length',\n",
       " 'experimental_h3_to_local_ij',\n",
       " 'experimental_local_ij_to_h3',\n",
       " 'geo_to_h3',\n",
       " 'get_destination_h3_index_from_unidirectional_edge',\n",
       " 'get_h3_indexes_from_unidirectional_edge',\n",
       " 'get_h3_unidirectional_edge',\n",
       " 'get_h3_unidirectional_edge_boundary',\n",
       " 'get_h3_unidirectional_edges_from_hexagon',\n",
       " 'get_origin_h3_index_from_unidirectional_edge',\n",
       " 'get_pentagon_indexes',\n",
       " 'get_res0_indexes',\n",
       " 'h3_distance',\n",
       " 'h3_get_base_cell',\n",
       " 'h3_get_faces',\n",
       " 'h3_get_resolution',\n",
       " 'h3_indexes_are_neighbors',\n",
       " 'h3_is_pentagon',\n",
       " 'h3_is_res_class_III',\n",
       " 'h3_is_res_class_iii',\n",
       " 'h3_is_valid',\n",
       " 'h3_line',\n",
       " 'h3_set_to_multi_polygon',\n",
       " 'h3_to_center_child',\n",
       " 'h3_to_children',\n",
       " 'h3_to_geo',\n",
       " 'h3_to_geo_boundary',\n",
       " 'h3_to_parent',\n",
       " 'h3_to_string',\n",
       " 'h3_unidirectional_edge_is_valid',\n",
       " 'hex_area',\n",
       " 'hex_range',\n",
       " 'hex_range_distances',\n",
       " 'hex_ranges',\n",
       " 'hex_ring',\n",
       " 'k_ring',\n",
       " 'k_ring_distances',\n",
       " 'num_hexagons',\n",
       " 'point_dist',\n",
       " 'polyfill',\n",
       " 'polyfill_geojson',\n",
       " 'polyfill_polygon',\n",
       " 'string_to_h3',\n",
       " 'uncompact',\n",
       " 'versions']"
      ]
     },
     "execution_count": 10,
     "metadata": {},
     "output_type": "execute_result"
    }
   ],
   "source": [
    "dir (h3)"
   ]
  },
  {
   "cell_type": "code",
   "execution_count": 11,
   "metadata": {},
   "outputs": [
    {
     "data": {
      "text/plain": [
       "0.461354684"
      ]
     },
     "execution_count": 11,
     "metadata": {},
     "output_type": "execute_result"
    }
   ],
   "source": [
    "h3.edge_length(h3.h3_get_resolution(hex))"
   ]
  },
  {
   "cell_type": "code",
   "execution_count": null,
   "metadata": {
    "collapsed": true
   },
   "outputs": [],
   "source": [
    "sc.stop()"
   ]
  },
  {
   "cell_type": "code",
   "execution_count": null,
   "metadata": {
    "collapsed": true
   },
   "outputs": [],
   "source": []
  }
 ],
 "metadata": {
  "kernelspec": {
   "display_name": "Python 3",
   "language": "python",
   "name": "python3"
  },
  "language_info": {
   "codemirror_mode": {
    "name": "ipython",
    "version": 3
   },
   "file_extension": ".py",
   "mimetype": "text/x-python",
   "name": "python",
   "nbconvert_exporter": "python",
   "pygments_lexer": "ipython3",
   "version": "3.7.1"
  }
 },
 "nbformat": 4,
 "nbformat_minor": 2
}
