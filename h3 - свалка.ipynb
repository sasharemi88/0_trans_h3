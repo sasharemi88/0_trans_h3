{
 "cells": [
  {
   "cell_type": "markdown",
   "metadata": {},
   "source": [
    "from h3 import h3\n",
    "import folium"
   ]
  },
  {
   "cell_type": "code",
   "execution_count": 4,
   "metadata": {},
   "outputs": [
    {
     "data": {
      "text/plain": [
       "['__builtins__',\n",
       " '__cached__',\n",
       " '__doc__',\n",
       " '__file__',\n",
       " '__loader__',\n",
       " '__name__',\n",
       " '__package__',\n",
       " '__spec__',\n",
       " '_api_functions',\n",
       " '_cy',\n",
       " '_globals',\n",
       " '_in_collection',\n",
       " '_in_scalar',\n",
       " '_out_ordered',\n",
       " '_out_scalar',\n",
       " '_out_unordered',\n",
       " 'cell_area',\n",
       " 'compact',\n",
       " 'edge_length',\n",
       " 'exact_edge_length',\n",
       " 'experimental_h3_to_local_ij',\n",
       " 'experimental_local_ij_to_h3',\n",
       " 'geo_to_h3',\n",
       " 'get_destination_h3_index_from_unidirectional_edge',\n",
       " 'get_h3_indexes_from_unidirectional_edge',\n",
       " 'get_h3_unidirectional_edge',\n",
       " 'get_h3_unidirectional_edge_boundary',\n",
       " 'get_h3_unidirectional_edges_from_hexagon',\n",
       " 'get_origin_h3_index_from_unidirectional_edge',\n",
       " 'get_pentagon_indexes',\n",
       " 'get_res0_indexes',\n",
       " 'h3_distance',\n",
       " 'h3_get_base_cell',\n",
       " 'h3_get_faces',\n",
       " 'h3_get_resolution',\n",
       " 'h3_indexes_are_neighbors',\n",
       " 'h3_is_pentagon',\n",
       " 'h3_is_res_class_III',\n",
       " 'h3_is_res_class_iii',\n",
       " 'h3_is_valid',\n",
       " 'h3_line',\n",
       " 'h3_set_to_multi_polygon',\n",
       " 'h3_to_center_child',\n",
       " 'h3_to_children',\n",
       " 'h3_to_geo',\n",
       " 'h3_to_geo_boundary',\n",
       " 'h3_to_parent',\n",
       " 'h3_to_string',\n",
       " 'h3_unidirectional_edge_is_valid',\n",
       " 'hex_area',\n",
       " 'hex_range',\n",
       " 'hex_range_distances',\n",
       " 'hex_ranges',\n",
       " 'hex_ring',\n",
       " 'k_ring',\n",
       " 'k_ring_distances',\n",
       " 'num_hexagons',\n",
       " 'point_dist',\n",
       " 'polyfill',\n",
       " 'polyfill_geojson',\n",
       " 'polyfill_polygon',\n",
       " 'string_to_h3',\n",
       " 'uncompact',\n",
       " 'versions']"
      ]
     },
     "execution_count": 4,
     "metadata": {},
     "output_type": "execute_result"
    }
   ],
   "source": [
    "dir(h3)"
   ]
  }
 ],
 "metadata": {
  "kernelspec": {
   "display_name": "Python 3",
   "language": "python",
   "name": "python3"
  },
  "language_info": {
   "codemirror_mode": {
    "name": "ipython",
    "version": 3
   },
   "file_extension": ".py",
   "mimetype": "text/x-python",
   "name": "python",
   "nbconvert_exporter": "python",
   "pygments_lexer": "ipython3",
   "version": "3.7.1"
  }
 },
 "nbformat": 4,
 "nbformat_minor": 2
}
